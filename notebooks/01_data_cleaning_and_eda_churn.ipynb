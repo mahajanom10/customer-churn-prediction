{
 "cells": [
  {
   "cell_type": "markdown",
   "metadata": {},
   "source": "# Customer Churn Prediction - EDA & Preprocessing"
  },
  {
   "cell_type": "code",
   "execution_count": 1,
   "metadata": {},
   "outputs": [],
   "source": "# Import libraries\nimport pandas as pd\nimport numpy as np\nimport matplotlib.pyplot as plt\nimport seaborn as sns\nfrom sklearn.model_selection import train_test_split\nfrom sklearn.linear_model import LogisticRegression\nfrom sklearn.ensemble import RandomForestClassifier\nfrom sklearn.metrics import classification_report, confusion_matrix, accuracy_score, precision_score, recall_score, f1_score, roc_curve, auc"
  },
  {
   "cell_type": "markdown",
   "metadata": {},
   "source": "## Load and explore data"
  },
  {
   "cell_type": "code",
   "execution_count": 2,
   "metadata": {},
   "outputs": [],
   "source": "# Load data\ndf = pd.read_csv(\"data/WA_Fn-UseC_-Telco-Customer-Churn.csv\")\ndf.head()"
  },
  {
   "cell_type": "markdown",
   "metadata": {},
   "source": "## Data Cleaning & Preprocessing"
  },
  {
   "cell_type": "code",
   "execution_count": 3,
   "metadata": {},
   "outputs": [],
   "source": "# Drop irrelevant columns, handle missing values\n# Encode target and categorical columns as needed"
  },
  {
   "cell_type": "markdown",
   "metadata": {},
   "source": "## Model Training and Evaluation"
  },
  {
   "cell_type": "code",
   "execution_count": 4,
   "metadata": {},
   "outputs": [],
   "source": "# Train-test split\nX = df.drop('Churn', axis=1)\ny = df['Churn']\nX_train, X_test, y_train, y_test = train_test_split(X, y, test_size=0.3, random_state=42)\n\n# Train models\nlog_model = LogisticRegression(max_iter=1000)\nrf_model = RandomForestClassifier()\nlog_model.fit(X_train, y_train)\nrf_model.fit(X_train, y_train)\n\n# Predictions\nlog_preds = log_model.predict(X_test)\nrf_preds = rf_model.predict(X_test)\nlog_probs = log_model.predict_proba(X_test)[:, 1]\nrf_probs = rf_model.predict_proba(X_test)[:, 1]"
  },
  {
   "cell_type": "markdown",
   "metadata": {},
   "source": "## Classification Reports"
  },
  {
   "cell_type": "code",
   "execution_count": 5,
   "metadata": {},
   "outputs": [],
   "source": "print(\"Logistic Regression Classification Report:\")\nprint(classification_report(y_test, log_preds))\n\nprint(\"Random Forest Classification Report:\")\nprint(classification_report(y_test, rf_preds))"
  },
  {
   "cell_type": "markdown",
   "metadata": {},
   "source": "## ROC Curves"
  },
  {
   "cell_type": "code",
   "execution_count": 6,
   "metadata": {},
   "outputs": [],
   "source": "# Convert target to binary if needed\ny_test_bin = y_test.map({'No': 0, 'Yes': 1})\n\n# ROC curves\nfpr_log, tpr_log, _ = roc_curve(y_test_bin, log_probs)\nfpr_rf, tpr_rf, _ = roc_curve(y_test_bin, rf_probs)\n\nplt.figure(figsize=(8,6))\nplt.plot(fpr_log, tpr_log, label='Logistic Regression')\nplt.plot(fpr_rf, tpr_rf, label='Random Forest')\nplt.plot([0,1], [0,1], 'k--')\nplt.xlabel('False Positive Rate')\nplt.ylabel('True Positive Rate')\nplt.title('ROC Curve')\nplt.legend()\nplt.savefig(\"outputs/charts/roc_curve.png\")\nplt.show()"
  },
  {
   "cell_type": "markdown",
   "metadata": {},
   "source": "## Save Model Comparison as CSV"
  },
  {
   "cell_type": "code",
   "execution_count": 7,
   "metadata": {},
   "outputs": [],
   "source": "# Save model metrics to CSV\nmetrics_df = pd.DataFrame({\n    'Model': ['Logistic Regression', 'Random Forest'],\n    'Accuracy': [accuracy_score(y_test, log_preds), accuracy_score(y_test, rf_preds)],\n    'Precision': [precision_score(y_test_bin, log_preds == 'Yes'), precision_score(y_test_bin, rf_preds == 'Yes')],\n    'Recall': [recall_score(y_test_bin, log_preds == 'Yes'), recall_score(y_test_bin, rf_preds == 'Yes')],\n    'F1 Score': [f1_score(y_test_bin, log_preds == 'Yes'), f1_score(y_test_bin, rf_preds == 'Yes')]\n})\n\nmetrics_df.to_csv(\"outputs/model_comparison.csv\", index=False)\nmetrics_df"
  }
 ],
 "metadata": {
  "kernelspec": {
   "display_name": "Python 3",
   "language": "python",
   "name": "python3"
  },
  "language_info": {
   "name": "python",
   "version": "3.11"
  }
 },
 "nbformat": 4,
 "nbformat_minor": 5
}
